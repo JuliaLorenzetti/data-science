{
  "nbformat": 4,
  "nbformat_minor": 0,
  "metadata": {
    "colab": {
      "name": "CodingTask2.ipynb",
      "provenance": [],
      "include_colab_link": true
    },
    "kernelspec": {
      "name": "python3",
      "display_name": "Python 3"
    },
    "language_info": {
      "name": "python"
    }
  },
  "cells": [
    {
      "cell_type": "markdown",
      "metadata": {
        "id": "view-in-github",
        "colab_type": "text"
      },
      "source": [
        "<a href=\"https://colab.research.google.com/github/JuliaLorenzetti/data-science/blob/main/CodingTask2.ipynb\" target=\"_parent\"><img src=\"https://colab.research.google.com/assets/colab-badge.svg\" alt=\"Open In Colab\"/></a>"
      ]
    },
    {
      "cell_type": "markdown",
      "source": [
        "Data Science Fundamentals for DCBP, S. Haug, University of Bern "
      ],
      "metadata": {
        "id": "_-1mhuoK6uqC"
      }
    },
    {
      "cell_type": "markdown",
      "source": [
        "# Coding Task 2\n",
        "\n",
        "- Deadline (upload to Ilias): 2022-05-15 24:00\n",
        "- Solutions in lecture on 2022-05-18\n",
        "- Estimated effort: from 4 to 60 hours\n",
        "- Images (data) on Ilias in the Data folder, the images.zip file\n",
        "- Main notebook is number 11 for this task, however, also others may help you. You can also benefit a lot from googeling for code examples\n"
      ],
      "metadata": {
        "id": "gn4RkUC66-ou"
      }
    },
    {
      "cell_type": "markdown",
      "source": [
        "## Subtasks (maximum 12.5 points)"
      ],
      "metadata": {
        "id": "KYKF2iS56v1z"
      }
    },
    {
      "cell_type": "markdown",
      "source": [
        "- Upload the images to a folder on your google drive. Write a function which retrieves the filenames of the images, contains a loop converting them to png images and saves them. [about 1 hour] [max 3 points] \n",
        "- With some filtering and sthresholding, write a function which converts the colored bins into nice white segments on a black background for one image. [about 1 hour][max 3 points]\n",
        "- Write an algorithm which counts the number of bins. First approach could be a \"sliding window\" algorithm, i.e a loop sliding over the image and counting regions with substantial white content. There may also be nice segmentation tools out \"there\" already. You may google. [about 4 hours][max 3 points] \n",
        "- Write an algorithm which does the latter task on all images. As the images are quite different, this is a large task which goes beyond the time budget of this exercise, however, you can give it a try. If it works out for a couple of images, that is already good. [from 4 to 50 hours][max 3.5 points]"
      ],
      "metadata": {
        "id": "rXqhhPMu9aPx"
      }
    },
    {
      "cell_type": "markdown",
      "source": [
        "Work in teams and have fun ! "
      ],
      "metadata": {
        "id": "OfvMackX-SFc"
      }
    },
    {
      "cell_type": "markdown",
      "source": [
        "1. conversion to png format"
      ],
      "metadata": {
        "id": "CkH90JmHKdc3"
      }
    },
    {
      "cell_type": "code",
      "source": [
        "import numpy as np\n",
        "import matplotlib.pyplot as plt\n",
        "import skimage.io as io\n",
        "import skimage.filters as skf\n",
        "import skimage.morphology as skm\n",
        "from google.colab import drive\n",
        "drive.mount('/content/drive')\n",
        "!pip install pillow_heif \n",
        "from PIL import Image\n",
        "import pillow_heif"
      ],
      "metadata": {
        "id": "jNRHC9V00iKf",
        "outputId": "cf16ad8c-8b67-4180-a278-29e35a57c480",
        "colab": {
          "base_uri": "https://localhost:8080/"
        }
      },
      "execution_count": 1,
      "outputs": [
        {
          "output_type": "stream",
          "name": "stdout",
          "text": [
            "Mounted at /content/drive\n",
            "Collecting pillow_heif\n",
            "  Downloading pillow_heif-0.2.3-cp37-cp37m-manylinux_2_17_x86_64.manylinux2014_x86_64.whl (13.1 MB)\n",
            "\u001b[K     |████████████████████████████████| 13.1 MB 4.9 MB/s \n",
            "\u001b[?25hRequirement already satisfied: pillow>=6.0.0 in /usr/local/lib/python3.7/dist-packages (from pillow_heif) (7.1.2)\n",
            "Requirement already satisfied: cffi>=1.14.6 in /usr/local/lib/python3.7/dist-packages (from pillow_heif) (1.15.0)\n",
            "Requirement already satisfied: pycparser in /usr/local/lib/python3.7/dist-packages (from cffi>=1.14.6->pillow_heif) (2.21)\n",
            "Installing collected packages: pillow-heif\n",
            "Successfully installed pillow-heif-0.2.3\n"
          ]
        }
      ]
    },
    {
      "cell_type": "code",
      "source": [
        "for i in range (5379, 5394, 1):\n",
        "  url_pre  = '/content/drive/MyDrive/Data Science/images coding task 2/'\n",
        "  url_name = ''.join(['IMG_', str(i), '.HEIC'])\n",
        "  heif_file = pillow_heif.read(url_pre+url_name)\n",
        "  image = Image.frombytes(heif_file.mode,heif_file.size,heif_file.data,\"raw\",)\n",
        "  url_name = url_name.split('.')[0]+'.png'\n",
        "  image.save(url_pre+url_name, format=\"png\")"
      ],
      "metadata": {
        "id": "DHNz92jPLP75"
      },
      "execution_count": 4,
      "outputs": []
    }
  ]
}