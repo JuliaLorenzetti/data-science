{
  "nbformat": 4,
  "nbformat_minor": 0,
  "metadata": {
    "colab": {
      "name": "CodingTask1.ipynb",
      "provenance": [],
      "include_colab_link": true
    },
    "kernelspec": {
      "name": "python3",
      "display_name": "Python 3"
    },
    "language_info": {
      "name": "python"
    }
  },
  "cells": [
    {
      "cell_type": "markdown",
      "metadata": {
        "id": "view-in-github",
        "colab_type": "text"
      },
      "source": [
        "<a href=\"https://colab.research.google.com/github/JuliaLorenzetti/data-science/blob/main/CodingTask1.ipynb\" target=\"_parent\"><img src=\"https://colab.research.google.com/assets/colab-badge.svg\" alt=\"Open In Colab\"/></a>"
      ]
    },
    {
      "cell_type": "markdown",
      "source": [
        "Data Science Fundamentals for DCBP, S. Haug, University of Bern "
      ],
      "metadata": {
        "id": "_-1mhuoK6uqC"
      }
    },
    {
      "cell_type": "markdown",
      "source": [
        "# Coding Task 1\n",
        "\n",
        "- Deadline (upload to Ilias): 2022-03-20 24:00\n",
        "- Estimated effort: 2-5 hours\n",
        "- Data on Ilias (4ms_...) with metadata file CCD-Metadata\n"
      ],
      "metadata": {
        "id": "gn4RkUC66-ou"
      }
    },
    {
      "cell_type": "markdown",
      "source": [
        "## Tasks (maximum 12.5 points)"
      ],
      "metadata": {
        "id": "KYKF2iS56v1z"
      }
    },
    {
      "cell_type": "markdown",
      "source": [
        "- Write a method (function) which removes the header information in the datafile and saves that information into a separate textfile. [0.5 points] \n",
        "- Write a function which reduces the data resolution by averaging over 1, 2, 3 and 4 nm wavelengths. Save these 4 new reduced datasets in new files. Do this (1) by writing an explicit loop and (2) by using pandas methods. Measure the running times of the two approaches. [6 points]\n",
        "- Write a function which takes two wavelengths as input and plots the difference of the data at these lengths over time. [2 points] \n",
        "- Let the x-axis be in seconds, label the axes with names and units, label the plot with color and legend, make a title for the plot. Save the plot to a file. [2 points]\n",
        "- Plot the full and the reduced datasets in the same figure. Is there any visual difference? [2 points]"
      ],
      "metadata": {
        "id": "rXqhhPMu9aPx"
      }
    },
    {
      "cell_type": "code",
      "source": [
        "# Write a method (function) which removes the header information in the datafile and saves that information into a separate textfile.\n",
        "def remove_header:\n",
        "  from google.colab import drive\n",
        "  drive.mount('/content/drive')\n",
        "  path = '/content/drive/MyDrive/Data Science/CCD-absorbance.txt'\n",
        "  with open (path, 'r') as instream:\n",
        "  textlines = instream.readlines()\n",
        "  for i in range(13):\n",
        "    print(textlines[i])\n",
        "  with open ('CCD.txt', 'w') as outstream:\n",
        "    outstream.write(textlines)\n",
        "remove_header()\n",
        "\n",
        "  import pandas as pd\n",
        "  df = pd.read_csv(path, delimiter='\\t', header=13) # the data is tab separated, thus delimiter \\t\n",
        "  df.to_txt('stripped_data.txt')\n"
      ],
      "metadata": {
        "id": "OfvMackX-SFc"
      },
      "execution_count": null,
      "outputs": []
    },
    {
      "cell_type": "code",
      "source": [
        "# Write a function which reduces the data resolution by averaging over 1, 2, 3 and 4 nm wavelengths. \n",
        "# Save these 4 new reduced datasets in new files. Do this (1) by writing an explicit loop and (2) by using pandas methods.\n",
        "# Measure the running times of the two approaches.\n",
        "def resolution:  \n",
        "\n",
        "  "
      ],
      "metadata": {
        "id": "IrMEUzdGWfxq"
      },
      "execution_count": null,
      "outputs": []
    },
    {
      "cell_type": "code",
      "source": [
        "# extract column names in e.g. position 100\n",
        "df.columns[100]"
      ],
      "metadata": {
        "id": "MHN0hKDpZFQy"
      },
      "execution_count": null,
      "outputs": []
    },
    {
      "cell_type": "code",
      "source": [
        "# plotting time versus absorbance at a given wavelength\n",
        "x = df.iloc[:,0]\n",
        "y = df.iloc[:,1950]\n",
        "plt.plot(x,y)\n",
        "\n",
        "# wavelentgh difference\n",
        "x = df.iloc[:,0]\n",
        "y = -(df.iloc[:,1950]-df[:,1800)]\n",
        "plt.plot(x,y)"
      ],
      "metadata": {
        "id": "Qs-3c_0EaDRX"
      },
      "execution_count": null,
      "outputs": []
    },
    {
      "cell_type": "code",
      "source": [
        ""
      ],
      "metadata": {
        "id": "ak80eM0Mcz7U",
        "outputId": "fc97a423-6306-4be1-dfbb-84139a501b3e",
        "colab": {
          "base_uri": "https://localhost:8080/"
        }
      },
      "execution_count": 1,
      "outputs": [
        {
          "output_type": "execute_result",
          "data": {
            "text/plain": [
              "(array([0]),)"
            ]
          },
          "metadata": {},
          "execution_count": 1
        }
      ]
    }
  ]
}