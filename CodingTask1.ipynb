{
  "nbformat": 4,
  "nbformat_minor": 0,
  "metadata": {
    "colab": {
      "name": "CodingTask1.ipynb",
      "provenance": [],
      "include_colab_link": true
    },
    "kernelspec": {
      "name": "python3",
      "display_name": "Python 3"
    },
    "language_info": {
      "name": "python"
    }
  },
  "cells": [
    {
      "cell_type": "markdown",
      "metadata": {
        "id": "view-in-github",
        "colab_type": "text"
      },
      "source": [
        "<a href=\"https://colab.research.google.com/github/JuliaLorenzetti/data-science/blob/main/CodingTask1.ipynb\" target=\"_parent\"><img src=\"https://colab.research.google.com/assets/colab-badge.svg\" alt=\"Open In Colab\"/></a>"
      ]
    },
    {
      "cell_type": "markdown",
      "source": [
        "Data Science Fundamentals for DCBP, S. Haug, University of Bern "
      ],
      "metadata": {
        "id": "_-1mhuoK6uqC"
      }
    },
    {
      "cell_type": "markdown",
      "source": [
        "# Coding Task 1\n",
        "\n",
        "- Deadline (upload to Ilias): 2022-03-20 24:00\n",
        "- Estimated effort: 2-5 hours\n",
        "- Data on Ilias (4ms_...) with metadata file CCD-Metadata\n"
      ],
      "metadata": {
        "id": "gn4RkUC66-ou"
      }
    },
    {
      "cell_type": "markdown",
      "source": [
        "## Tasks (maximum 12.5 points)"
      ],
      "metadata": {
        "id": "KYKF2iS56v1z"
      }
    },
    {
      "cell_type": "markdown",
      "source": [
        "- Write a method (function) which removes the header information in the datafile and saves that information into a separate textfile. [0.5 points] \n",
        "- Write a function which reduces the data resolution by averaging over 1, 2, 3 and 4 nm wavelengths. Save these 4 new reduced datasets in new files. Do this (1) by writing an explicit loop and (2) by using pandas methods. Measure the running times of the two approaches. [6 points]\n",
        "- Write a function which takes two wavelengths as input and plots the difference of the data at these lengths over time. [2 points] \n",
        "- Let the x-axis be in seconds, label the axes with names and units, label the plot with color and legend, make a title for the plot. Save the plot to a file. [2 points]\n",
        "- Plot the full and the reduced datasets in the same figure. Is there any visual difference? [2 points]"
      ],
      "metadata": {
        "id": "rXqhhPMu9aPx"
      }
    },
    {
      "cell_type": "markdown",
      "source": [
        "Importing Libraries"
      ],
      "metadata": {
        "id": "DHx9Rqe73IRH"
      }
    },
    {
      "cell_type": "code",
      "source": [
        "import numpy as np\n",
        "import pandas as pd\n",
        "import matplotlib.pyplot as plot"
      ],
      "metadata": {
        "id": "7-DhhxTx3MgN"
      },
      "execution_count": 2,
      "outputs": []
    },
    {
      "cell_type": "markdown",
      "source": [
        "Saving data without header information in a separate file"
      ],
      "metadata": {
        "id": "sbbjyyfd3X_D"
      }
    },
    {
      "cell_type": "code",
      "source": [
        "from google.colab import drive\n",
        "drive.mount('/content/drive')\n",
        "path = '/content/drive/MyDrive/Data Science/CCD-absorbance.txt'\n",
        "\n",
        "def remove_header():\n",
        "  df = pd.read_csv(path, delimiter='\\t', header=13) # the data is tab separated, thus delimiter \\t\n",
        "  df.info()\n",
        "  df.to_string('CCD-data.txt')\n",
        "remove_header()"
      ],
      "metadata": {
        "id": "-mmmMCtC3nqQ",
        "outputId": "e720b244-596e-40d6-b4f4-2e52139061f9",
        "colab": {
          "base_uri": "https://localhost:8080/"
        }
      },
      "execution_count": 3,
      "outputs": [
        {
          "output_type": "stream",
          "name": "stdout",
          "text": [
            "Mounted at /content/drive\n",
            "<class 'pandas.core.frame.DataFrame'>\n",
            "RangeIndex: 355 entries, 0 to 354\n",
            "Columns: 3650 entries, Unnamed: 0 to 780.0381\n",
            "dtypes: float64(3648), int64(1), object(1)\n",
            "memory usage: 9.9+ MB\n"
          ]
        }
      ]
    },
    {
      "cell_type": "markdown",
      "source": [
        "Reducing the data resolution and measuring the running time"
      ],
      "metadata": {
        "id": "ASSud0eC5SxY"
      }
    },
    {
      "cell_type": "code",
      "source": [
        "%%timeit -n 10 -r 5\n",
        "df = pd.read_csv(path, delimiter='\\t', header=13)\n",
        "df_array= np.array(df)\n",
        "mean_values_array= np.empty((355, 406), float)\n",
        "for i in range(2, 3650, 9):  # data spans a range of 464 nm in 3658 columns which makes for roughly 8 columns per 1 nm\n",
        "    df_subarray= df_array[0:355, i:(i+8)]\n",
        "    new_df_subarray= df_subarray.mean(axis=1)\n",
        "    np.insert(mean_values_array, i, new_df_subarray)\n",
        "pd.DataFrame(mean_values_array).to_csv('mean-1nm.csv')"
      ],
      "metadata": {
        "id": "tngjGtx0-_85",
        "outputId": "371b1e90-5328-4c1a-d58d-637aa805e74f",
        "colab": {
          "base_uri": "https://localhost:8080/"
        }
      },
      "execution_count": 8,
      "outputs": [
        {
          "output_type": "stream",
          "name": "stdout",
          "text": [
            "10 loops, best of 5: 914 ms per loop\n"
          ]
        }
      ]
    },
    {
      "cell_type": "markdown",
      "source": [
        "CCD data vs time plot"
      ],
      "metadata": {
        "id": "IgBpUVhwVwUR"
      }
    },
    {
      "cell_type": "code",
      "source": [
        "df = pd.read_csv(path, delimiter='\\t', header=13)\n",
        "time = df.iloc[:, 1]/1000\n",
        "time_corr = time - 1540456324.789\n",
        "diff_wl= -(df.iloc[:,1935]-df.iloc[:, 1778])  # difference btw 570 and 550 nm \n",
        "\n",
        "fig, ax = plot.subplots()\n",
        "ax.set_title('CCD data over time')\n",
        "ax.set_ylabel('voltage [V]')\n",
        "ax.set_xlabel('time [s]')\n",
        "ax.plot(time_corr, diff_wl, '.', color='purple')\n",
        "plot.savefig('CCD-plot1.jpg')"
      ],
      "metadata": {
        "id": "BHsy51iaV8ba",
        "outputId": "7c31c03d-9eaa-4c86-d714-35698f6ebd4b",
        "colab": {
          "base_uri": "https://localhost:8080/",
          "height": 295
        }
      },
      "execution_count": 12,
      "outputs": [
        {
          "output_type": "display_data",
          "data": {
            "text/plain": [
              "<Figure size 432x288 with 1 Axes>"
            ],
            "image/png": "[encoded data removed]"
          },
          "metadata": {
            "needs_background": "light"
          }
        }
      ]
    },
    {
      "cell_type": "code",
      "source": [
        "# extract column names in e.g. position 100\n",
        "df.columns[100]"
      ],
      "metadata": {
        "id": "MHN0hKDpZFQy"
      },
      "execution_count": null,
      "outputs": []
    },
    {
      "cell_type": "code",
      "source": [
        "# plotting time versus absorbance at a given wavelength\n",
        "x = df.iloc[:,0]\n",
        "y = df.iloc[:,1950]\n",
        "plot.plot(x,y)\n",
        "\n",
        "# wavelength difference\n",
        "x = df.iloc[:,0]\n",
        "y = -(df.iloc[:,1950]-df[:,1800])\n",
        "plot.plot(x,y)"
      ],
      "metadata": {
        "id": "Qs-3c_0EaDRX"
      },
      "execution_count": null,
      "outputs": []
    },
    {
      "cell_type": "code",
      "source": [
        ""
      ],
      "metadata": {
        "colab": {
          "base_uri": "https://localhost:8080/"
        },
        "id": "ak80eM0Mcz7U",
        "outputId": "fc97a423-6306-4be1-dfbb-84139a501b3e"
      },
      "execution_count": 1,
      "outputs": [
        {
          "output_type": "execute_result",
          "data": {
            "text/plain": [
              "(array([0]),)"
            ]
          },
          "metadata": {},
          "execution_count": 1
        }
      ]
    }
  ]
}