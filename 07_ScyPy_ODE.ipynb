{
  "nbformat": 4,
  "nbformat_minor": 0,
  "metadata": {
    "colab": {
      "name": "07-ScyPy-ODE.ipynb",
      "provenance": [],
      "include_colab_link": true
    },
    "kernelspec": {
      "name": "python3",
      "display_name": "Python 3"
    },
    "language_info": {
      "name": "python"
    }
  },
  "cells": [
    {
      "cell_type": "markdown",
      "metadata": {
        "id": "view-in-github",
        "colab_type": "text"
      },
      "source": [
        "<a href=\"https://colab.research.google.com/github/JuliaLorenzetti/data-science/blob/main/07_ScyPy_ODE.ipynb\" target=\"_parent\"><img src=\"https://colab.research.google.com/assets/colab-badge.svg\" alt=\"Open In Colab\"/></a>"
      ]
    },
    {
      "cell_type": "code",
      "execution_count": 1,
      "metadata": {
        "id": "4Ifc_vuD_-gs"
      },
      "outputs": [],
      "source": [
        "import numpy as np\n",
        "from scipy.integrate import odeint # get youself an overview of the methods in scipy.integrate\n",
        "import matplotlib.pyplot as plt"
      ]
    },
    {
      "cell_type": "markdown",
      "source": [
        "## Simple ODE"
      ],
      "metadata": {
        "id": "UYkcfl7CANO0"
      }
    },
    {
      "cell_type": "markdown",
      "source": [
        "Solve the following ODE\n",
        "$$ \\frac{dy}{dt} = ye^{-t}$$\n",
        "from $t_0=0$ to t=6 with the initial condition $y_0 = y(t_0)= 1$. Plot the resulting function $y(t)$."
      ],
      "metadata": {
        "id": "Qx2GmHqZAa3D"
      }
    },
    {
      "cell_type": "code",
      "source": [
        "# def f(y,t):\n",
        "#   dydt = y * np.exp(-t)\n",
        "#   return dydt\n",
        "\n",
        "# t = np.linspace(0,6)\n",
        "# y0 = 1.0\n",
        "# y = odeint(f,y0,t)\n",
        "# #print(y)"
      ],
      "metadata": {
        "id": "u_JA6ZDRBJHz"
      },
      "execution_count": null,
      "outputs": []
    },
    {
      "cell_type": "code",
      "source": [
        "def ODE(y,t):\n",
        "  dynachdt = y*np.exp(-t)\n",
        "  return dynachdt\n",
        "\n",
        "t = np.linspace(0,6)\n",
        "y0 = 1.0\n",
        "y = odeint(ODE,y0,t)\n",
        "print(y)\n"
      ],
      "metadata": {
        "colab": {
          "base_uri": "https://localhost:8080/"
        },
        "id": "JT3cHjbVDo3z",
        "outputId": "43053a20-4f06-4aa4-d53e-bdeece62c2af"
      },
      "execution_count": 2,
      "outputs": [
        {
          "output_type": "stream",
          "name": "stdout",
          "text": [
            "[[1.        ]\n",
            " [1.12215284]\n",
            " [1.24261203]\n",
            " [1.3599266 ]\n",
            " [1.47292262]\n",
            " [1.58069959]\n",
            " [1.68261258]\n",
            " [1.77824531]\n",
            " [1.86737861]\n",
            " [1.94995736]\n",
            " [2.02605862]\n",
            " [2.09586192]\n",
            " [2.15962297]\n",
            " [2.21765106]\n",
            " [2.27029015]\n",
            " [2.31790345]\n",
            " [2.36086127]\n",
            " [2.39953157]\n",
            " [2.43427295]\n",
            " [2.46542958]\n",
            " [2.49332776]\n",
            " [2.5182738 ]\n",
            " [2.54055286]\n",
            " [2.56042856]\n",
            " [2.57814321]\n",
            " [2.59391843]\n",
            " [2.60795604]\n",
            " [2.62043915]\n",
            " [2.6315334 ]\n",
            " [2.6413882 ]\n",
            " [2.65013801]\n",
            " [2.65790358]\n",
            " [2.66479315]\n",
            " [2.67090359]\n",
            " [2.67632149]\n",
            " [2.68112415]\n",
            " [2.68538049]\n",
            " [2.68915192]\n",
            " [2.69249312]\n",
            " [2.69545271]\n",
            " [2.69807392]\n",
            " [2.70039516]\n",
            " [2.70245054]\n",
            " [2.70427035]\n",
            " [2.70588145]\n",
            " [2.70730768]\n",
            " [2.70857016]\n",
            " [2.70968763]\n",
            " [2.7106767 ]\n",
            " [2.71155208]]\n"
          ]
        }
      ]
    },
    {
      "cell_type": "code",
      "source": [
        "plt.plot(t,y)\n",
        "plt.xlabel('time [s]')\n",
        "plt.ylabel('y(t)')"
      ],
      "metadata": {
        "colab": {
          "base_uri": "https://localhost:8080/",
          "height": 297
        },
        "id": "x3c_Kgl7Eowr",
        "outputId": "0026a854-fa5b-468d-d891-7f851dafc916"
      },
      "execution_count": 3,
      "outputs": [
        {
          "output_type": "execute_result",
          "data": {
            "text/plain": [
              "Text(0, 0.5, 'y(t)')"
            ]
          },
          "metadata": {},
          "execution_count": 3
        },
        {
          "output_type": "display_data",
          "data": {
            "text/plain": [
              "<Figure size 432x288 with 1 Axes>"
            ],
            "image/png": "[encoded data removed]"
          },
          "metadata": {
            "needs_background": "light"
          }
        }
      ]
    },
    {
      "cell_type": "code",
      "source": [
        "# plt.plot(t,y)\n",
        "# plt.xlabel('Time / s')\n",
        "# plt.ylabel('y(t)')"
      ],
      "metadata": {
        "id": "tTyRQz9qBtzw"
      },
      "execution_count": null,
      "outputs": []
    },
    {
      "cell_type": "markdown",
      "source": [
        "## Set of two ODE"
      ],
      "metadata": {
        "id": "QoreO-VPCMqS"
      }
    },
    {
      "cell_type": "markdown",
      "source": [
        "We have the first order reaction $A \\rightarrow B$. The reaction rate is given by\n",
        "$$ \\frac{dC_A}{dt} = -kC_A $$\n",
        "where $k = 2.0$ and the initial concentration $C_A(t=0)=1.0$. The product composition $C_B$ is described by\n",
        "$$\\frac{dC_B}{dt} = k C_A$$\n",
        "Solve the equations and plot $C_A$ and $C_B$ versus time in the same figure."
      ],
      "metadata": {
        "id": "AgnfeUjSC9kH"
      }
    },
    {
      "cell_type": "code",
      "source": [
        "# def rnx(C,t):\n",
        "#   Ca = C[0]\n",
        "#   Cb = C[1]\n",
        "#   k  = 2.0\n",
        "#   dAdt = -k * Ca\n",
        "#   dBdt =  k * Ca\n",
        "#   return [dAdt,dBdt]\n",
        "# t  = np.linspace(0,5,1000)\n",
        "# C0 = [1,0]\n",
        "# C  = odeint(rnx,C0,t)\n",
        "# plt.plot(t,C[:,0], 'r--',linewidth=2.0)\n",
        "# plt.plot(t,C[:,1], 'b-',linewidth=2.0)\n",
        "# plt.xlabel('Time / s')\n",
        "# plt.ylabel('Concentration')\n",
        "# plt.legend(['Ca','Cb'])"
      ],
      "metadata": {
        "id": "1Nm-i4myEV7R"
      },
      "execution_count": null,
      "outputs": []
    },
    {
      "cell_type": "code",
      "source": [
        "def first_order(c,t):\n",
        "  c_a = c[0]\n",
        "  c_b = c[1]\n",
        "  k = 2.0 \n",
        "  dAdt = -k*c_a\n",
        "  dBdt = k*c_a\n",
        "  return [dAdt, dBdt]\n",
        "t = np.linspace(0,4,1000)\n",
        "c_0 = [1,0]\n",
        "c = odeint(first_order,c_0,t)\n",
        "plt.plot(t,c[0::], 'r--', linewidth=2.0, color='purple')\n",
        "plt.plot(t,c[1::], 'b-', linewidth=2.0, color='blue')\n",
        "plt.xlabel('t [s]')\n",
        "plt.ylabel('c [mol/L]')\n",
        "plt.legend(['c_a, c_b'])"
      ],
      "metadata": {
        "colab": {
          "base_uri": "https://localhost:8080/",
          "height": 646
        },
        "id": "QHf2z31oFIch",
        "outputId": "dcff80ee-12a8-4456-9ae6-a991b60076b5"
      },
      "execution_count": 12,
      "outputs": [
        {
          "output_type": "error",
          "ename": "ValueError",
          "evalue": "ignored",
          "traceback": [
            "\u001b[0;31m---------------------------------------------------------------------------\u001b[0m",
            "\u001b[0;31mValueError\u001b[0m                                Traceback (most recent call last)",
            "\u001b[0;32m<ipython-input-12-0b029d5b7141>\u001b[0m in \u001b[0;36m<module>\u001b[0;34m()\u001b[0m\n\u001b[1;32m     10\u001b[0m \u001b[0mc\u001b[0m \u001b[0;34m=\u001b[0m \u001b[0modeint\u001b[0m\u001b[0;34m(\u001b[0m\u001b[0mfirst_order\u001b[0m\u001b[0;34m,\u001b[0m\u001b[0mc_0\u001b[0m\u001b[0;34m,\u001b[0m\u001b[0mt\u001b[0m\u001b[0;34m)\u001b[0m\u001b[0;34m\u001b[0m\u001b[0;34m\u001b[0m\u001b[0m\n\u001b[1;32m     11\u001b[0m \u001b[0mplt\u001b[0m\u001b[0;34m.\u001b[0m\u001b[0mplot\u001b[0m\u001b[0;34m(\u001b[0m\u001b[0mt\u001b[0m\u001b[0;34m,\u001b[0m\u001b[0mc\u001b[0m\u001b[0;34m[\u001b[0m\u001b[0;36m0\u001b[0m\u001b[0;34m:\u001b[0m\u001b[0;34m:\u001b[0m\u001b[0;34m]\u001b[0m\u001b[0;34m,\u001b[0m \u001b[0;34m'r--'\u001b[0m\u001b[0;34m,\u001b[0m \u001b[0mlinewidth\u001b[0m\u001b[0;34m=\u001b[0m\u001b[0;36m2.0\u001b[0m\u001b[0;34m,\u001b[0m \u001b[0mcolor\u001b[0m\u001b[0;34m=\u001b[0m\u001b[0;34m'purple'\u001b[0m\u001b[0;34m)\u001b[0m\u001b[0;34m\u001b[0m\u001b[0;34m\u001b[0m\u001b[0m\n\u001b[0;32m---> 12\u001b[0;31m \u001b[0mplt\u001b[0m\u001b[0;34m.\u001b[0m\u001b[0mplot\u001b[0m\u001b[0;34m(\u001b[0m\u001b[0mt\u001b[0m\u001b[0;34m,\u001b[0m\u001b[0mc\u001b[0m\u001b[0;34m[\u001b[0m\u001b[0;36m1\u001b[0m\u001b[0;34m:\u001b[0m\u001b[0;34m:\u001b[0m\u001b[0;34m]\u001b[0m\u001b[0;34m,\u001b[0m \u001b[0;34m'b-'\u001b[0m\u001b[0;34m,\u001b[0m \u001b[0mlinewidth\u001b[0m\u001b[0;34m=\u001b[0m\u001b[0;36m2.0\u001b[0m\u001b[0;34m,\u001b[0m \u001b[0mcolor\u001b[0m\u001b[0;34m=\u001b[0m\u001b[0;34m'blue'\u001b[0m\u001b[0;34m)\u001b[0m\u001b[0;34m\u001b[0m\u001b[0;34m\u001b[0m\u001b[0m\n\u001b[0m\u001b[1;32m     13\u001b[0m \u001b[0mplt\u001b[0m\u001b[0;34m.\u001b[0m\u001b[0mxlabel\u001b[0m\u001b[0;34m(\u001b[0m\u001b[0;34m't [s]'\u001b[0m\u001b[0;34m)\u001b[0m\u001b[0;34m\u001b[0m\u001b[0;34m\u001b[0m\u001b[0m\n\u001b[1;32m     14\u001b[0m \u001b[0mplt\u001b[0m\u001b[0;34m.\u001b[0m\u001b[0mylabel\u001b[0m\u001b[0;34m(\u001b[0m\u001b[0;34m'c [mol/L]'\u001b[0m\u001b[0;34m)\u001b[0m\u001b[0;34m\u001b[0m\u001b[0;34m\u001b[0m\u001b[0m\n",
            "\u001b[0;32m/usr/local/lib/python3.7/dist-packages/matplotlib/pyplot.py\u001b[0m in \u001b[0;36mplot\u001b[0;34m(scalex, scaley, data, *args, **kwargs)\u001b[0m\n\u001b[1;32m   2761\u001b[0m     return gca().plot(\n\u001b[1;32m   2762\u001b[0m         *args, scalex=scalex, scaley=scaley, **({\"data\": data} if data\n\u001b[0;32m-> 2763\u001b[0;31m         is not None else {}), **kwargs)\n\u001b[0m\u001b[1;32m   2764\u001b[0m \u001b[0;34m\u001b[0m\u001b[0m\n\u001b[1;32m   2765\u001b[0m \u001b[0;34m\u001b[0m\u001b[0m\n",
            "\u001b[0;32m/usr/local/lib/python3.7/dist-packages/matplotlib/axes/_axes.py\u001b[0m in \u001b[0;36mplot\u001b[0;34m(self, scalex, scaley, data, *args, **kwargs)\u001b[0m\n\u001b[1;32m   1645\u001b[0m         \"\"\"\n\u001b[1;32m   1646\u001b[0m         \u001b[0mkwargs\u001b[0m \u001b[0;34m=\u001b[0m \u001b[0mcbook\u001b[0m\u001b[0;34m.\u001b[0m\u001b[0mnormalize_kwargs\u001b[0m\u001b[0;34m(\u001b[0m\u001b[0mkwargs\u001b[0m\u001b[0;34m,\u001b[0m \u001b[0mmlines\u001b[0m\u001b[0;34m.\u001b[0m\u001b[0mLine2D\u001b[0m\u001b[0;34m)\u001b[0m\u001b[0;34m\u001b[0m\u001b[0;34m\u001b[0m\u001b[0m\n\u001b[0;32m-> 1647\u001b[0;31m         \u001b[0mlines\u001b[0m \u001b[0;34m=\u001b[0m \u001b[0;34m[\u001b[0m\u001b[0;34m*\u001b[0m\u001b[0mself\u001b[0m\u001b[0;34m.\u001b[0m\u001b[0m_get_lines\u001b[0m\u001b[0;34m(\u001b[0m\u001b[0;34m*\u001b[0m\u001b[0margs\u001b[0m\u001b[0;34m,\u001b[0m \u001b[0mdata\u001b[0m\u001b[0;34m=\u001b[0m\u001b[0mdata\u001b[0m\u001b[0;34m,\u001b[0m \u001b[0;34m**\u001b[0m\u001b[0mkwargs\u001b[0m\u001b[0;34m)\u001b[0m\u001b[0;34m]\u001b[0m\u001b[0;34m\u001b[0m\u001b[0;34m\u001b[0m\u001b[0m\n\u001b[0m\u001b[1;32m   1648\u001b[0m         \u001b[0;32mfor\u001b[0m \u001b[0mline\u001b[0m \u001b[0;32min\u001b[0m \u001b[0mlines\u001b[0m\u001b[0;34m:\u001b[0m\u001b[0;34m\u001b[0m\u001b[0;34m\u001b[0m\u001b[0m\n\u001b[1;32m   1649\u001b[0m             \u001b[0mself\u001b[0m\u001b[0;34m.\u001b[0m\u001b[0madd_line\u001b[0m\u001b[0;34m(\u001b[0m\u001b[0mline\u001b[0m\u001b[0;34m)\u001b[0m\u001b[0;34m\u001b[0m\u001b[0;34m\u001b[0m\u001b[0m\n",
            "\u001b[0;32m/usr/local/lib/python3.7/dist-packages/matplotlib/axes/_base.py\u001b[0m in \u001b[0;36m__call__\u001b[0;34m(self, *args, **kwargs)\u001b[0m\n\u001b[1;32m    214\u001b[0m                 \u001b[0mthis\u001b[0m \u001b[0;34m+=\u001b[0m \u001b[0margs\u001b[0m\u001b[0;34m[\u001b[0m\u001b[0;36m0\u001b[0m\u001b[0;34m]\u001b[0m\u001b[0;34m,\u001b[0m\u001b[0;34m\u001b[0m\u001b[0;34m\u001b[0m\u001b[0m\n\u001b[1;32m    215\u001b[0m                 \u001b[0margs\u001b[0m \u001b[0;34m=\u001b[0m \u001b[0margs\u001b[0m\u001b[0;34m[\u001b[0m\u001b[0;36m1\u001b[0m\u001b[0;34m:\u001b[0m\u001b[0;34m]\u001b[0m\u001b[0;34m\u001b[0m\u001b[0;34m\u001b[0m\u001b[0m\n\u001b[0;32m--> 216\u001b[0;31m             \u001b[0;32myield\u001b[0m \u001b[0;32mfrom\u001b[0m \u001b[0mself\u001b[0m\u001b[0;34m.\u001b[0m\u001b[0m_plot_args\u001b[0m\u001b[0;34m(\u001b[0m\u001b[0mthis\u001b[0m\u001b[0;34m,\u001b[0m \u001b[0mkwargs\u001b[0m\u001b[0;34m)\u001b[0m\u001b[0;34m\u001b[0m\u001b[0;34m\u001b[0m\u001b[0m\n\u001b[0m\u001b[1;32m    217\u001b[0m \u001b[0;34m\u001b[0m\u001b[0m\n\u001b[1;32m    218\u001b[0m     \u001b[0;32mdef\u001b[0m \u001b[0mget_next_color\u001b[0m\u001b[0;34m(\u001b[0m\u001b[0mself\u001b[0m\u001b[0;34m)\u001b[0m\u001b[0;34m:\u001b[0m\u001b[0;34m\u001b[0m\u001b[0;34m\u001b[0m\u001b[0m\n",
            "\u001b[0;32m/usr/local/lib/python3.7/dist-packages/matplotlib/axes/_base.py\u001b[0m in \u001b[0;36m_plot_args\u001b[0;34m(self, tup, kwargs)\u001b[0m\n\u001b[1;32m    340\u001b[0m \u001b[0;34m\u001b[0m\u001b[0m\n\u001b[1;32m    341\u001b[0m         \u001b[0;32mif\u001b[0m \u001b[0mx\u001b[0m\u001b[0;34m.\u001b[0m\u001b[0mshape\u001b[0m\u001b[0;34m[\u001b[0m\u001b[0;36m0\u001b[0m\u001b[0;34m]\u001b[0m \u001b[0;34m!=\u001b[0m \u001b[0my\u001b[0m\u001b[0;34m.\u001b[0m\u001b[0mshape\u001b[0m\u001b[0;34m[\u001b[0m\u001b[0;36m0\u001b[0m\u001b[0;34m]\u001b[0m\u001b[0;34m:\u001b[0m\u001b[0;34m\u001b[0m\u001b[0;34m\u001b[0m\u001b[0m\n\u001b[0;32m--> 342\u001b[0;31m             raise ValueError(f\"x and y must have same first dimension, but \"\n\u001b[0m\u001b[1;32m    343\u001b[0m                              f\"have shapes {x.shape} and {y.shape}\")\n\u001b[1;32m    344\u001b[0m         \u001b[0;32mif\u001b[0m \u001b[0mx\u001b[0m\u001b[0;34m.\u001b[0m\u001b[0mndim\u001b[0m \u001b[0;34m>\u001b[0m \u001b[0;36m2\u001b[0m \u001b[0;32mor\u001b[0m \u001b[0my\u001b[0m\u001b[0;34m.\u001b[0m\u001b[0mndim\u001b[0m \u001b[0;34m>\u001b[0m \u001b[0;36m2\u001b[0m\u001b[0;34m:\u001b[0m\u001b[0;34m\u001b[0m\u001b[0;34m\u001b[0m\u001b[0m\n",
            "\u001b[0;31mValueError\u001b[0m: x and y must have same first dimension, but have shapes (1000,) and (999, 2)"
          ]
        },
        {
          "output_type": "display_data",
          "data": {
            "text/plain": [
              "<Figure size 432x288 with 1 Axes>"
            ],
            "image/png": "[encoded data removed]"
          },
          "metadata": {
            "needs_background": "light"
          }
        }
      ]
    },
    {
      "cell_type": "markdown",
      "source": [
        "## Set of four ODE"
      ],
      "metadata": {
        "id": "60R9fUr3Fgq3"
      }
    },
    {
      "cell_type": "markdown",
      "source": [
        "We are performing the following chemical reactions.\n",
        "$$ Rxn\\, 1: A + B \\rightarrow C $$\n",
        "$$ Rxn\\, 2: B + C \\rightarrow D $$\n",
        "A, B, C and D denote the species concentrations in mol/L. Let the initial concentrations be $A_0=1$, $B_0=1$, $C_0=$ and $D_0=0$. $k_1=1$, $k_2=1.5 L/Mol*s$.\n",
        "\n",
        "Plot the concentrations if A, B, C and D as functions of time for $t = [0,3]$ with $\\Delta t = 0.2$s. Also plot the selectivity defined as $S=C/(C+D)$ with $S(t_0)=1$. "
      ],
      "metadata": {
        "id": "oJElw9r0XKvI"
      }
    },
    {
      "cell_type": "markdown",
      "source": [
        "The ordinary differential equations:\n",
        "$$\\frac{dA}{dt} = -k_1 C_A C_B$$\n",
        "$$\\frac{dB}{dt} = -k_1 C_A C_B - k_2 C_B C_C$$\n",
        "$$\\frac{dC}{dt} = k_1 C_A C_B - k_2 C_B C_C$$\n",
        "$$\\frac{dD}{dt} = k_2 C_B C_C$$\n",
        "\n",
        "\n"
      ],
      "metadata": {
        "id": "S6ksTKEQXNVG"
      }
    },
    {
      "cell_type": "code",
      "source": [
        "# def rxn(Z,t):\n",
        "#   k1 = 1\n",
        "#   k2 = 1.5\n",
        "#   r1 = k1 * Z[0]*Z[1]\n",
        "#   r2 = k2 * Z[1]*Z[2]\n",
        "#   dAdt = -r1\n",
        "#   dBdt = -r1 - r2\n",
        "#   dCdt = r1 - r2\n",
        "#   dDdt = r2\n",
        "#   return [dAdt,dBdt,dCdt,dDdt]\n",
        "\n",
        "# t  = np.linspace(0,3,16)\n",
        "# Z0 = [1,1,0,0]\n",
        "# Conc = odeint(rxn,Z0,t)\n",
        "# cA = Conc[:,0]\n",
        "# cB = Conc[:,1]\n",
        "# cC = Conc[:,2]\n",
        "# cD = Conc[:,3]\n",
        "\n",
        "# S = cC / (cC+cD)\n",
        "\n",
        "# plt.plot(t, cA,label='Ca' )\n",
        "# plt.plot(t, cB,label='Cb')\n",
        "# plt.plot(t, cC, label='Cc')\n",
        "# plt.plot(t, cD, label='Cd')\n",
        "# plt.plot(t, S, label='S')\n",
        "# plt.legend()"
      ],
      "metadata": {
        "colab": {
          "base_uri": "https://localhost:8080/",
          "height": 301
        },
        "id": "iV8uPCcL1vhS",
        "outputId": "d2e43f0b-c596-4554-922c-be2da9b9ed34"
      },
      "execution_count": null,
      "outputs": [
        {
          "output_type": "stream",
          "name": "stderr",
          "text": [
            "/usr/local/lib/python3.7/dist-packages/ipykernel_launcher.py:20: RuntimeWarning: invalid value encountered in true_divide\n"
          ]
        },
        {
          "output_type": "execute_result",
          "data": {
            "text/plain": [
              "<matplotlib.legend.Legend at 0x7fc9a7edd910>"
            ]
          },
          "metadata": {},
          "execution_count": 7
        },
        {
          "output_type": "display_data",
          "data": {
            "text/plain": [
              "<Figure size 432x288 with 1 Axes>"
            ],
            "image/png": "[encoded data removed]"
          },
          "metadata": {
            "needs_background": "light"
          }
        }
      ]
    },
    {
      "cell_type": "code",
      "source": [
        ""
      ],
      "metadata": {
        "id": "rSKj8OX_3baG"
      },
      "execution_count": null,
      "outputs": []
    },
    {
      "cell_type": "code",
      "source": [
        "def rxn(Z,t):\n",
        "  k1 = 1\n",
        "  k2 = 1.5\n",
        "  r1 = k1*Z[0]*Z[1]\n",
        "  r2 = k2*Z[1]*Z[2]\n",
        "  dAdt = -r1\n",
        "  dBdt = -r1-r2\n",
        "  dCdt = r1-r2\n",
        "  dDdt = r2\n",
        "  return [dAdt, dBdt, dCdt, dDdt]\n",
        "\n",
        "t = np.linspace(0,8)\n",
        "Z0 = [1,1,0,0]\n",
        "c = odeint(rxn,Z0,t)\n",
        "c_A = c[:,0]\n",
        "c_B = c[:,1]\n",
        "c_C = c[:,2]\n",
        "c_D = c[:,3]\n",
        "\n",
        "S = c_C / (c_C+c_D)\n",
        "\n",
        "plt.plot(t, c_A, label='c_A')\n",
        "plt.plot(t, c_B, label='c_B')\n",
        "plt.plot(t, c_C, label='c_C')\n",
        "plt.plot(t, c_D, label='c_D')\n",
        "plt.plot(t, S, label='S')\n",
        "plt.legend()\n",
        "  "
      ],
      "metadata": {
        "id": "3R1nJ3HiJh6M",
        "outputId": "87768bf7-0ec9-4f9c-e34c-8d920c149d99",
        "colab": {
          "base_uri": "https://localhost:8080/",
          "height": 302
        }
      },
      "execution_count": 15,
      "outputs": [
        {
          "output_type": "stream",
          "name": "stderr",
          "text": [
            "/usr/local/lib/python3.7/dist-packages/ipykernel_launcher.py:20: RuntimeWarning: invalid value encountered in true_divide\n"
          ]
        },
        {
          "output_type": "execute_result",
          "data": {
            "text/plain": [
              "<matplotlib.legend.Legend at 0x7f750568b350>"
            ]
          },
          "metadata": {},
          "execution_count": 15
        },
        {
          "output_type": "display_data",
          "data": {
            "text/plain": [
              "<Figure size 432x288 with 1 Axes>"
            ],
            "image/png": "[encoded data removed]"
          },
          "metadata": {
            "needs_background": "light"
          }
        }
      ]
    }
  ]
}